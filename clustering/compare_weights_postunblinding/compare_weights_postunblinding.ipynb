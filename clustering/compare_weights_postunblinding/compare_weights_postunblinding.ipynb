{
 "cells": [
  {
   "cell_type": "code",
   "execution_count": 1,
   "metadata": {},
   "outputs": [
    {
     "name": "stdout",
     "output_type": "stream",
     "text": [
      "Reading config file\n",
      "Working with Y3\n"
     ]
    }
   ],
   "source": [
    "import numpy as np \n",
    "\n",
    "import sys\n",
    "import matplotlib\n",
    "import lsssys\n",
    "import twopoint\n",
    "import fitsio as fio\n",
    "import healpy as hp \n"
   ]
  },
  {
   "cell_type": "code",
   "execution_count": 2,
   "metadata": {},
   "outputs": [],
   "source": [
    "#paths and config\n",
    "\n",
    "nside = 512\n",
    "extra_label = ''\n",
    "\n",
    "ngal_dir = '/Users/jackelvinpoole/DES/cats/y3/redmagic/combined_sample_0.5.1_wide_0.9binning_zmax0.95/ngal_maps/'\n",
    "ngal_file_temp = ngal_dir + 'y3_gold_2.2.1_wide_sofcol_run_redmapper_v0.5.1_combined_hd3_hl2_galmap_nside512_bin{ibin}_zmin{zmin}_zmax{zmax}.fits.gz'\n",
    "\n",
    "f_map_dir = '/Users/jackelvinpoole/DES/cats/y3/redmagic/combined_sample_0.5.1_wide_0.9binning_zmax0.95/weight_maps/'\n",
    "\n",
    "#labels = [ 'fid_pca_107', 'fid_pca_108', 'enet_pca_108', 'enet_pca_107', 'enet_pca_108_hii99_cd99', 'enet_std_107',  'fid_std' , 'noweights', ]\n",
    "#labels = [ 'enet_pca_108', 'enet_pca_108_hii99_cd99', 'enet_std_107', 'fid_pca_108', 'fid_std' ]\n",
    "#labels = [ 'enet_pca_108', 'enet_pca_108_hii99_cd99', 'enet_std_107', ]\n",
    "#labels = [ 'fid_std' ]\n",
    "#labels = [ 'fid_pca_108', 'fid_std']\n",
    "#labels = [ 'enet_pca_107' ]\n",
    "#labels = [ 'fid_pca_107', 'noweights']\n",
    "labels = [ '', ]\n",
    "\n",
    "f_map_file_dict = {\n",
    "    'enet_pca_108':           f_map_dir + 'enet_pca_108/enet_Fest_map_Nbase108_512_izbin{ibin}_minfrac0.1_sqrt_pca.fits.gz', \n",
    "    'enet_pca_108_hii99_cd99':f_map_dir + 'enet_pca_108_hii99_cd99/enet_Fest_map_Nbase108_512_izbin{ibin}_minfrac0.1_sqrt_pca_hii99.9_cd99.9.fits.gz', \n",
    "    'enet_std_107':           f_map_dir + 'enet_std_107/enet_Fest_map_Nbase107_512_izbin{ibin}_minfrac0.1_sqrt.fits.gz',\n",
    "    'enet_std_108':           f_map_dir + 'enet_std_108/enet_Fest_map_Nbase108_512_izbin{ibin}_minfrac0.1.fits.gz',\n",
    "    'enet_pca_50':            f_map_dir + '',\n",
    "}\n",
    "\n",
    "w_map_file_dict = {\n",
    "    'fid_pca_107': f_map_dir + 'fid_pca_107/w_map_bin{ibin}_nside4096_nbins1d_10_2sig_v2.0_nside512.fits.gz',\n",
    "    'fid_pca_108': f_map_dir + 'fid_pca_108/w_map_bin{ibin}_nside4096_nbins1d_10_2.0sig_v2.0_nside512.fits.gz', \n",
    "    'fid_std':     f_map_dir + 'fid_std/w_map_bin{ibin}_nside4096_nbins1d_10_2.0signside512.fits.gz',\n",
    "}\n",
    "\n",
    "binedges = [0.15, 0.35, 0.50, 0.65, 0.80, 0.90]\n",
    "\n",
    "nthetabins = 20\n",
    "thetamax = 250./60.\n",
    "thetamin = 2.5/60.\n",
    "bin_slop = 0.05\n",
    "num_threads = 1\n",
    "\n",
    "angle_edges = np.logspace(np.log10(thetamin*60.),np.log10(thetamin*60.), 21)\n"
   ]
  },
  {
   "cell_type": "code",
   "execution_count": 3,
   "metadata": {},
   "outputs": [],
   "source": [
    "def load_galmap_w(ibin, label):\n",
    "    ngal_data = fio.read(ngal_file_temp.format(ibin=ibin+1, zmin=binedges[ibin], zmax=binedges[ibin+1]) )\n",
    "    data = np.ones(hp.nside2npix(nside))*hp.UNSEEN\n",
    "    data[ngal_data['HPIX']] = ngal_data['VALUE']\n",
    "    mask = np.ones(hp.nside2npix(nside)).astype('bool')\n",
    "    mask[ngal_data['HPIX']] = False\n",
    "    frac = np.zeros(hp.nside2npix(nside))\n",
    "    frac[ngal_data['HPIX']] = ngal_data['FRACDET']\n",
    "    galmap_w = lsssys.Map()\n",
    "    galmap_w.adddata(data, mask, frac)\n",
    "    if 'enet' in label:\n",
    "        f_map_temp =  f_map_file_dict[label]\n",
    "        f = lsssys.SysMap(f_map_temp.format(ibin=ibin) )\n",
    "        if f.nside != galmap_w.nside:\n",
    "            print('f map nside {0}, galmap_w nside {1}'.format(f.nside, galmap_w.nside))\n",
    "            print('up/de-grading f')\n",
    "            f.degrade(galmap_w.nside)\n",
    "        assert (f.data[~galmap_w.mask] == hp.UNSEEN).any() == False\n",
    "        galmap_w.data[~galmap_w.mask] = galmap_w.data[~galmap_w.mask]/(1. + f.data[~galmap_w.mask]) \n",
    "    elif 'fid' in label:\n",
    "        w_map_temp = w_map_file_dict[label]\n",
    "        w_map = lsssys.SysMap(w_map_temp.format(ibin=ibin), systnside=nside)\n",
    "        if w_map.nside != galmap_w.nside:\n",
    "            print(w_map.nside, galmap_w.nside)\n",
    "            w_map.degrade(galmap_w.nside, weightedmean=True)\n",
    "        assert (w_map.data[~galmap_w.mask] == hp.UNSEEN).any() == False\n",
    "        galmap_w.data[~galmap_w.mask] = galmap_w.data[~galmap_w.mask]*(w_map.data[~galmap_w.mask]) \n",
    "    elif label == 'noweights':\n",
    "        pass\n",
    "    else:\n",
    "        raise RuntimeError('enet or fid not in label')\n",
    "        \n",
    "    return galmap_w"
   ]
  },
  {
   "cell_type": "code",
   "execution_count": 14,
   "metadata": {},
   "outputs": [
    {
     "name": "stdout",
     "output_type": "stream",
     "text": [
      "/Users/jackelvinpoole/DES/cats/y3/redmagic/combined_sample_0.5.1_wide_0.9binning_zmax0.95/weight_maps/fid_pca_107/w_map_bin0_nside4096_nbins1d_10_2sig_v2.0_nside512.fits.gz\n",
      ".fits in syst name, forcing filename load\n",
      "NSIDE is ok, but it is not healpy format\n",
      "colnames = ['HPIX', 'VALUE']\n",
      "Assuming celestial coordinates. If the coordinates are galactic, use gal2eq()\n"
     ]
    },
    {
     "name": "stderr",
     "output_type": "stream",
     "text": [
      "/Users/jackelvinpoole/anaconda2/lib/python2.7/site-packages/ipykernel_launcher.py:20: RuntimeWarning: divide by zero encountered in divide\n"
     ]
    },
    {
     "name": "stdout",
     "output_type": "stream",
     "text": [
      "corr2pt using bin_slop = 0.05\n",
      "corr2pt: auto\n",
      "corr2pt took 16.3410561085s\n",
      "/Users/jackelvinpoole/DES/cats/y3/redmagic/combined_sample_0.5.1_wide_0.9binning_zmax0.95/weight_maps/fid_pca_107/w_map_bin1_nside4096_nbins1d_10_2sig_v2.0_nside512.fits.gz\n",
      ".fits in syst name, forcing filename load\n",
      "NSIDE is ok, but it is not healpy format\n",
      "colnames = ['HPIX', 'VALUE']\n",
      "Assuming celestial coordinates. If the coordinates are galactic, use gal2eq()\n",
      "corr2pt using bin_slop = 0.05\n",
      "corr2pt: auto\n",
      "corr2pt took 16.0213091373s\n",
      "/Users/jackelvinpoole/DES/cats/y3/redmagic/combined_sample_0.5.1_wide_0.9binning_zmax0.95/weight_maps/fid_pca_107/w_map_bin2_nside4096_nbins1d_10_2sig_v2.0_nside512.fits.gz\n",
      ".fits in syst name, forcing filename load\n",
      "NSIDE is ok, but it is not healpy format\n",
      "colnames = ['HPIX', 'VALUE']\n",
      "Assuming celestial coordinates. If the coordinates are galactic, use gal2eq()\n",
      "corr2pt using bin_slop = 0.05\n",
      "corr2pt: auto\n",
      "corr2pt took 16.1050601006s\n",
      "/Users/jackelvinpoole/DES/cats/y3/redmagic/combined_sample_0.5.1_wide_0.9binning_zmax0.95/weight_maps/fid_pca_107/w_map_bin3_nside4096_nbins1d_10_2sig_v2.0_nside512.fits.gz\n",
      ".fits in syst name, forcing filename load\n",
      "NSIDE is ok, but it is not healpy format\n",
      "colnames = ['HPIX', 'VALUE']\n",
      "Assuming celestial coordinates. If the coordinates are galactic, use gal2eq()\n",
      "corr2pt using bin_slop = 0.05\n",
      "corr2pt: auto\n",
      "corr2pt took 16.4085078239s\n",
      "/Users/jackelvinpoole/DES/cats/y3/redmagic/combined_sample_0.5.1_wide_0.9binning_zmax0.95/weight_maps/fid_pca_107/w_map_bin4_nside4096_nbins1d_10_2sig_v2.0_nside512.fits.gz\n",
      ".fits in syst name, forcing filename load\n",
      "NSIDE is ok, but it is not healpy format\n",
      "colnames = ['HPIX', 'VALUE']\n",
      "Assuming celestial coordinates. If the coordinates are galactic, use gal2eq()\n",
      "corr2pt using bin_slop = 0.05\n",
      "corr2pt: auto\n",
      "corr2pt took 16.4942531586s\n",
      "(0, 0)\n",
      "(1, 1)\n",
      "(2, 2)\n",
      "(3, 3)\n",
      "(4, 4)\n",
      "corr2pt using bin_slop = 0.05\n",
      "corr2pt: auto\n",
      "corr2pt took 15.6041760445s\n",
      "corr2pt using bin_slop = 0.05\n",
      "corr2pt: auto\n",
      "corr2pt took 16.0758450031s\n",
      "corr2pt using bin_slop = 0.05\n",
      "corr2pt: auto\n",
      "corr2pt took 16.5807101727s\n",
      "corr2pt using bin_slop = 0.05\n",
      "corr2pt: auto\n",
      "corr2pt took 15.8177819252s\n",
      "corr2pt using bin_slop = 0.05\n",
      "corr2pt: auto\n",
      "corr2pt took 15.855711937s\n",
      "(0, 0)\n",
      "(1, 1)\n",
      "(2, 2)\n",
      "(3, 3)\n",
      "(4, 4)\n"
     ]
    }
   ],
   "source": [
    "#%%capture\n",
    "\n",
    "#compute clustering\n",
    "nbins = 5\n",
    "\n",
    "\n",
    "for label in labels:\n",
    "    w_dict = {}\n",
    "    for ibin in range(nbins):\n",
    "        try:\n",
    "            galmap_w = load_galmap_w(ibin, label)\n",
    "        except IOError:\n",
    "            print('couldnt find', ibin)\n",
    "            continue\n",
    "\n",
    "        theta, wtheta = lsssys.corr2pt(galmap_w, galmap_w, \n",
    "          nthetabins, thetamax, thetamin, \n",
    "          bin_slop=bin_slop, num_threads=num_threads, bin_type=None, \n",
    "          delta_input=False, w1=None, w2=None, \n",
    "          scale1=1./galmap_w.fracdet, scale2=1./galmap_w.fracdet, \n",
    "          return_var=False, \n",
    "          returncorr=False, jointmask=None, \n",
    "          fracweights=True, fracweights2=True, \n",
    "          weights=None, weights2=None)\n",
    "        w_dict['theta_{0}_{0}'.format(ibin)] = theta\n",
    "        w_dict[ibin,ibin] = wtheta\n",
    "\n",
    "    w_dict['angle_min'] = angle_edges[:-1]\n",
    "    w_dict['angle_max'] = angle_edges[1:]\n",
    "\n",
    "    spectrum = lsssys.corrdict_2_spectrumtype(w_dict, autoonly=True, name='wtheta', \n",
    "                kernel1='nz_lens', kernel2='nz_lens',)\n",
    "\n",
    "    tp = twopoint.TwoPointFile([spectrum], kernels=None, windows={}, covmat_info=None)\n",
    "    tp.to_fits('wtheta_redmagic_y3_data_bs{bin_slop}_{label}{extra_label}.fits'.format(\n",
    "        bin_slop = bin_slop,\n",
    "        label=label,\n",
    "        extra_label=extra_label), overwrite=True)\n",
    "\n"
   ]
  },
  {
   "cell_type": "markdown",
   "metadata": {},
   "source": [
    "# nside = 4096"
   ]
  },
  {
   "cell_type": "code",
   "execution_count": 6,
   "metadata": {},
   "outputs": [],
   "source": [
    "nside = 4096\n",
    "extra_label='nside4096'\n",
    "\n",
    "ngal_dir = '/Users/jackelvinpoole/DES/cats/y3/redmagic/combined_sample_0.5.1_wide_0.9binning_zmax0.95/ngal_maps/'\n",
    "ngal_file_temp = ngal_dir + 'y3_gold_2.2.1_wide_sofcol_run_redmapper_v0.5.1_combined_hd3_hl2_galmap_nside4096_bin{ibin}_zmin{zmin}_zmax{zmax}.fits.gz'\n",
    "\n",
    "w_map_file_dict = {\n",
    "    'fid_pca_107': f_map_dir + 'fid_pca_107/w_map_bin{ibin}_nside4096_nbins1d_10_2sig_v2.0.fits.gz',\n",
    "    'fid_pca_108': f_map_dir + 'fid_pca_108/w_map_bin{ibin}_nside4096_nbins1d_10_2.0sig_v2.0.fits.gz', \n",
    "    'fid_std':     f_map_dir + 'fid_std/w_map_bin{ibin}_nside4096_nbins1d_10_2.0sig.fits.gz',\n",
    "}\n",
    "\n",
    "#labels = [ 'fid_pca_108', 'enet_std_107']\n",
    "#labels = [ 'fid_pca_107']\n",
    "#labels = [ 'noweights', ]\n",
    "#labels = [ 'enet_pca_108_hii99_cd99'  ]\n",
    "#labels = [ 'enet_std_108', 'enet_pca_108' ]\n",
    "labels = [ 'fid_std',  ]\n"
   ]
  },
  {
   "cell_type": "code",
   "execution_count": null,
   "metadata": {},
   "outputs": [
    {
     "name": "stdout",
     "output_type": "stream",
     "text": [
      "/Users/jackelvinpoole/DES/cats/y3/redmagic/combined_sample_0.5.1_wide_0.9binning_zmax0.95/weight_maps/fid_std/w_map_bin0_nside4096_nbins1d_10_2.0sig.fits.gz\n",
      ".fits in syst name, forcing filename load\n"
     ]
    },
    {
     "name": "stderr",
     "output_type": "stream",
     "text": [
      "/Users/jackelvinpoole/anaconda2/lib/python2.7/site-packages/healpy/fitsfunc.py:287: HealpixFitsWarning: No NSIDE in the header file : will use length of array\n",
      "  warnings.warn(\"No NSIDE in the header file : will use length of array\", HealpixFitsWarning)\n"
     ]
    },
    {
     "name": "stdout",
     "output_type": "stream",
     "text": [
      "NSIDE is ok, but it is not healpy format\n",
      "colnames = ['HPIX', 'VALUE']\n",
      "Assuming celestial coordinates. If the coordinates are galactic, use gal2eq()\n"
     ]
    },
    {
     "name": "stderr",
     "output_type": "stream",
     "text": [
      "/Users/jackelvinpoole/anaconda2/lib/python2.7/site-packages/ipykernel_launcher.py:19: RuntimeWarning: divide by zero encountered in divide\n"
     ]
    },
    {
     "name": "stdout",
     "output_type": "stream",
     "text": [
      "corr2pt using bin_slop = 0.1\n",
      "corr2pt: auto\n"
     ]
    }
   ],
   "source": [
    "\n",
    "#compute clustering\n",
    "nbins = 5\n",
    "bin_slop = 0.1\n",
    "\n",
    "for label in labels:\n",
    "    w_dict = {}\n",
    "    for ibin in range(nbins):\n",
    "        try:\n",
    "            galmap_w = load_galmap_w(ibin, label)\n",
    "        except IOError:\n",
    "            print('couldnt find', ibin)\n",
    "            continue\n",
    "\n",
    "        theta, wtheta = lsssys.corr2pt(galmap_w, galmap_w, \n",
    "          nthetabins, thetamax, thetamin, \n",
    "          bin_slop=bin_slop, num_threads=num_threads, bin_type=None, \n",
    "          delta_input=False, w1=None, w2=None, \n",
    "          scale1=1./galmap_w.fracdet, scale2=1./galmap_w.fracdet, \n",
    "          return_var=False, \n",
    "          returncorr=False, jointmask=None, \n",
    "          fracweights=True, fracweights2=True, \n",
    "          weights=None, weights2=None)\n",
    "        w_dict['theta_{0}_{0}'.format(ibin)] = theta\n",
    "        w_dict[ibin,ibin] = wtheta\n",
    "\n",
    "    w_dict['angle_min'] = angle_edges[:-1]\n",
    "    w_dict['angle_max'] = angle_edges[1:]\n",
    "\n",
    "    spectrum = lsssys.corrdict_2_spectrumtype(w_dict, autoonly=True, name='wtheta', \n",
    "                kernel1='nz_lens', kernel2='nz_lens',)\n",
    "\n",
    "    tp = twopoint.TwoPointFile([spectrum], kernels=None, windows={}, covmat_info=None)\n",
    "    tp.to_fits('wtheta_redmagic_y3_data_bs{bin_slop}_{label}{extra_label}.fits'.format(\n",
    "        bin_slop = bin_slop,\n",
    "        label=label,\n",
    "        extra_label=extra_label), overwrite=True)\n",
    "\n"
   ]
  },
  {
   "cell_type": "code",
   "execution_count": null,
   "metadata": {},
   "outputs": [],
   "source": [
    "w_dict"
   ]
  },
  {
   "cell_type": "code",
   "execution_count": null,
   "metadata": {},
   "outputs": [],
   "source": []
  }
 ],
 "metadata": {
  "kernelspec": {
   "display_name": "Jacks_Python_2_Env",
   "language": "python",
   "name": "jacks_python_2_env"
  },
  "language_info": {
   "codemirror_mode": {
    "name": "ipython",
    "version": 2
   },
   "file_extension": ".py",
   "mimetype": "text/x-python",
   "name": "python",
   "nbconvert_exporter": "python",
   "pygments_lexer": "ipython2",
   "version": "2.7.15"
  }
 },
 "nbformat": 4,
 "nbformat_minor": 4
}
