{
 "cells": [
  {
   "cell_type": "code",
   "execution_count": null,
   "metadata": {},
   "outputs": [],
   "source": [
    "import numpy as np \n",
    "\n",
    "import sys\n",
    "import matplotlib\n",
    "#matplotlib.use('Agg')\n",
    "sys.path.append('/global/u1/j/jelvinpo/DES/lss_sys/')\n",
    "import lsssys\n",
    "import twopoint\n",
    "import fitsio as fio\n",
    "import healpy as hp \n"
   ]
  },
  {
   "cell_type": "code",
   "execution_count": 4,
   "metadata": {},
   "outputs": [],
   "source": [
    "#paths and config\n",
    "\n",
    "mock_dir = '/global/project/projectdirs/des/monroy/lognormal_mocks/contaminated_mocks/redmagic_v0.5.1_gold_2.2.1_newzbinning_jointmask_contaminated_lognormal_mocks/contaminated_lognormal_mocks_2.0sig/'\n",
    "mock_file_temp = mock_dir + 'y3_redmagic_v0.5.1_newzbinning_contaminated_2.0sig_nside512_mock{imock}.fits.gz'\n",
    "\n",
    "f_map_dir = '/project/projectdirs/des/nweaverd/y3_enet/systematics_analysis/output/fracdet_thresh_0d1/mocks/fest_maps/'\n",
    "f_map_temp = f_map_dir+'{label}_Fest_map_Nbase108_512_izbin{ibin}_minfrac0.1_mock{imock}.fits.gz'\n",
    "\n",
    "labels = ['enet','enet2','enet_kptpl']\n",
    "\n",
    "nthetabins = 20\n",
    "thetamax = 250./60.\n",
    "thetamin = 2.5/60.\n",
    "bin_slop = 0.05\n",
    "num_threads = 5\n",
    "\n",
    "angle_edges = np.logspace(np.log10(thetamin*60.),np.log10(thetamin*60.), 21)\n"
   ]
  },
  {
   "cell_type": "code",
   "execution_count": 5,
   "metadata": {},
   "outputs": [],
   "source": [
    "def load_galmap_w(ibin, imock, label):\n",
    "    mock = lsssys.Mock(None, 512, empty=True )\n",
    "    mock.load( mock_file_temp.format(imock=imock) )\n",
    "    galmap_w = mock.ngal[ibin]\n",
    "    f = lsssys.SysMap(f_map_temp.format(label=label, ibin=ibin, imock=imock) )\n",
    "    assert (f.data[~galmap_w.mask] == hp.UNSEEN).any() == False\n",
    "    galmap_w.data[~galmap_w.mask] = galmap_w.data[~galmap_w.mask]/(1. + f.data[~galmap_w.mask]) \n",
    "    return galmap_w"
   ]
  },
  {
   "cell_type": "code",
   "execution_count": null,
   "metadata": {},
   "outputs": [],
   "source": [
    "%%capture\n",
    "\n",
    "#compute clustering\n",
    "nbins = 1\n",
    "nmocks = 1\n",
    "\n",
    "for label in labels:\n",
    "    for imock in range(nmocks):\n",
    "        w_dict = {}\n",
    "        for ibin in range(5):\n",
    "            try:\n",
    "                galmap_w = load_galmap_w(ibin, imock, label)\n",
    "            except IOError:\n",
    "                print('couldnt find', imock, ibin)\n",
    "                continue\n",
    "            \n",
    "            theta, wtheta = lsssys.corr2pt(galmap_w, galmap_w, \n",
    "              nthetabins, thetamax, thetamin, \n",
    "              bin_slop=bin_slop, num_threads=num_threads, bin_type=None, \n",
    "              delta_input=False, w1=None, w2=None, \n",
    "              scale1=1./galmap_w.fracdet, scale2=1./galmap_w.fracdet, \n",
    "              return_var=False, \n",
    "              returncorr=False, jointmask=None, \n",
    "              fracweights=True, fracweights2=True, \n",
    "              weights=None, weights2=None)\n",
    "            w_dict['theta_{0}_{0}'.format(ibin)] = theta\n",
    "            w_dict[ibin,ibin] = wtheta\n",
    "\n",
    "        w_dict['angle_min'] = angle_edges[:-1]\n",
    "        w_dict['angle_max'] = angle_edges[1:]\n",
    "\n",
    "        spectrum = lsssys.corrdict_2_spectrumtype(w_dict, autoonly=True, name='wtheta', \n",
    "                    kernel1='nz_lens', kernel2='nz_lens',)\n",
    "        \n",
    "        tp = twopoint.TwoPointFile([spectrum], kernels=None, windows={}, covmat_info=None)\n",
    "        tp.to_fits('wtheta_redmagic_y3_mock{imock}_bs{bin_slop}_{label}.fits'.format(\n",
    "            bin_slop = bin_slop,\n",
    "            label=label, \n",
    "            imock=imock), overwrite=True)\n",
    "        \n",
    "            "
   ]
  },
  {
   "cell_type": "code",
   "execution_count": null,
   "metadata": {},
   "outputs": [],
   "source": []
  }
 ],
 "metadata": {
  "kernelspec": {
   "display_name": "Jacks_Python_2_Env",
   "language": "python",
   "name": "jacks_python_2_env"
  },
  "language_info": {
   "codemirror_mode": {
    "name": "ipython",
    "version": 2
   },
   "file_extension": ".py",
   "mimetype": "text/x-python",
   "name": "python",
   "nbconvert_exporter": "python",
   "pygments_lexer": "ipython2",
   "version": "2.7.15"
  }
 },
 "nbformat": 4,
 "nbformat_minor": 4
}
