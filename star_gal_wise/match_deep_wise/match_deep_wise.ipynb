{
 "cells": [
  {
   "cell_type": "markdown",
   "id": "ffcdfcd2-1c2a-4084-a630-8ee7ee58667e",
   "metadata": {
    "tags": []
   },
   "source": [
    "### MATCH DEEP FIELD OBJECTS TO BALROG DETECTION FILE ###\n",
    "To make sure the ID is the same"
   ]
  },
  {
   "cell_type": "code",
   "execution_count": 1,
   "id": "997e9d69-8890-46d3-93d4-3145d8b3aaa0",
   "metadata": {
    "tags": []
   },
   "outputs": [],
   "source": [
    "import numpy as np\n",
    "import fitsio as fio\n",
    "import pylab as plt\n",
    "import pandas as pd\n",
    "import astropy.table"
   ]
  },
  {
   "cell_type": "code",
   "execution_count": 2,
   "id": "011760c6-e28d-4b63-b7b9-8085c6b37bab",
   "metadata": {
    "tags": []
   },
   "outputs": [],
   "source": [
    "#balrog Y3 detetcion file and deep field ra,dec file\n",
    "\n",
    "balrog_detection_file = \"/global/cfs/cdirs/des/severett/Balrog/run2a/stacked_catalogs/1.4/sof/balrog_detection_catalog_sof_run2a_v1.4.fits\"\n",
    "deep_field_file = \"/pscratch/sd/j/jelvinpo/DES/cats/y3/deepfields/Y3_DEEP_FIELDS_PHOTOM_ang_mag.fits\"\n",
    "deep_field_wise_file = \"/global/cfs/projectdirs/des/nweaverd/y3_deepfields/dr10.0/south/matched/merged_ls-dr10.0-Y3_DEEP_FIELDS_PHOTOM_ang_mag.fits\"\n"
   ]
  },
  {
   "cell_type": "code",
   "execution_count": null,
   "id": "49b85384-603d-4c2b-97c3-2f40b1e2b086",
   "metadata": {},
   "outputs": [],
   "source": [
    "balrog_detection_table = astropy.table.Table.read(balrog_detection_file)\n",
    "balrog_detection = balrog_detection_table[['true_id']].to_pandas()\n",
    "deep_field = astropy.table.Table.read(deep_field_file).to_pandas()\n"
   ]
  },
  {
   "cell_type": "code",
   "execution_count": 63,
   "id": "ae62895a-3155-4be2-9017-cab81c1c9cbe",
   "metadata": {
    "tags": []
   },
   "outputs": [],
   "source": [
    "balrog_detection_with_deepcoord = balrog_detection.merge(deep_field, how='left', left_on='true_id', right_on='ID')"
   ]
  },
  {
   "cell_type": "code",
   "execution_count": 72,
   "id": "cf0f78f3-1f59-4ff1-a8e8-ec94cc9b770d",
   "metadata": {
    "tags": []
   },
   "outputs": [
    {
     "data": {
      "text/plain": [
       "[<matplotlib.lines.Line2D at 0x7fe0edf27cc0>]"
      ]
     },
     "execution_count": 72,
     "metadata": {},
     "output_type": "execute_result"
    },
    {
     "data": {
      "image/png": "[encoded data removed]",
      "text/plain": [
       "<Figure size 432x288 with 1 Axes>"
      ]
     },
     "metadata": {
      "needs_background": "light"
     },
     "output_type": "display_data"
    }
   ],
   "source": [
    "x0 = np.array(balrog_detection_with_deepcoord['BDF_MAG_DERED_G'])\n",
    "x1 = np.array(balrog_detection_with_deepcoord['BDF_MAG_DERED_CALIB_G'])\n",
    "y = np.array(balrog_detection_table['true_bdf_mag_deredden'][:,0])\n",
    "plt.plot(x0,y-x1,',')\n",
    "plt.plot(x0,y-x0,',')"
   ]
  },
  {
   "cell_type": "markdown",
   "id": "7c237727-ea5d-4037-9857-b3436ddb8672",
   "metadata": {},
   "source": [
    "### ADD N_INJECTION N_DETECTIONS TO WISE MATCHED DEEP FIELDS###\n",
    "+make plot showing fraction of matches vs magnitude"
   ]
  },
  {
   "cell_type": "code",
   "execution_count": 3,
   "id": "f7bcfc87-0bcd-424a-abac-9e4674cf0fd4",
   "metadata": {
    "tags": []
   },
   "outputs": [],
   "source": [
    "#load the matched deep field catalog + balrog detections\n",
    "\n",
    "balrog_detection_table = astropy.table.Table.read(balrog_detection_file)\n",
    "deep_field = astropy.table.Table.read(deep_field_file)\n",
    "deep_field_wise = astropy.table.Table.read(deep_field_wise_file)"
   ]
  },
  {
   "cell_type": "code",
   "execution_count": 31,
   "id": "542c1b0d-eba4-4fe8-98bb-9208948ac1e3",
   "metadata": {},
   "outputs": [],
   "source": [
    "#count number of times each deep field object was injected/detected\n",
    "import collections\n",
    "count_inj = collections.Counter(balrog_detection_table['true_id'])\n",
    "count_det = collections.Counter(balrog_detection_table['true_id'][balrog_detection_table['detected'] == 1])\n",
    "\n",
    "injected_id = np.unique(balrog_detection_table[\"true_id\"]).data\n",
    "n_injections = np.array([count_inj[i] for i in injected_id])\n",
    "n_detections = np.array([count_det[i] for i in injected_id])\n"
   ]
  },
  {
   "cell_type": "code",
   "execution_count": 95,
   "id": "9bf63508-3806-4771-bef3-d23b0651bf5e",
   "metadata": {
    "tags": []
   },
   "outputs": [],
   "source": [
    "#match injected id list to the matched deep fieled catalog\n",
    "injected_id_pd = astropy.table.Table(data=[injected_id], names=['INJ_ID']).to_pandas()\n",
    "injected_id_merged = injected_id_pd.merge(deep_field_wise[['ID','FLUX_W1','BDF_MAG_DERED_I']].to_pandas(), how='left', left_on='INJ_ID', right_on='ID')\n",
    "injected_flux_W1 = np.array(injected_id_merged['FLUX_W1'])\n",
    "injected_imag = np.array(injected_id_merged['BDF_MAG_DERED_I'])"
   ]
  },
  {
   "cell_type": "code",
   "execution_count": null,
   "id": "a7ceea0d-5bd3-4a00-bd4d-9f8f2d3e1df0",
   "metadata": {},
   "outputs": [],
   "source": [
    "#select matches/positive matches\n",
    "has_wise_match = ~np.isnan(injected_flux_W1)\n",
    "has_pos_wise_match = injected_flux_W1 > 0."
   ]
  },
  {
   "cell_type": "code",
   "execution_count": 91,
   "id": "614a6eed-dca1-4859-a73a-b618a94744a4",
   "metadata": {
    "tags": []
   },
   "outputs": [],
   "source": [
    "#get total fractions\n",
    "\n",
    "frac_injections_with_wise_match = np.sum(n_injections[has_wise_match])/np.sum(n_injections)\n",
    "frac_detections_with_wise_match = np.sum(n_detections[has_wise_match])/np.sum(n_detections)\n",
    "\n",
    "frac_injections_with_pos_wise_match = np.sum(n_injections[has_pos_wise_match])/np.sum(n_injections)\n",
    "frac_detections_with_pos_wise_match = np.sum(n_detections[has_pos_wise_match])/np.sum(n_detections)\n",
    "\n",
    "print(\"frac Y3 injections with deep-field WISE match =\", frac_injections_with_wise_match)\n",
    "print(\"frac Y3 detections with deep-field WISE match =\", frac_detections_with_wise_match)\n",
    "\n",
    "print(\"frac Y3 injections with positive-flux deep-field WISE match =\", frac_injections_with_pos_wise_match)\n",
    "print(\"frac Y3 detections with positive-flux deep-field WISE match =\", frac_detections_with_pos_wise_match)\n"
   ]
  },
  {
   "cell_type": "code",
   "execution_count": 111,
   "id": "c4639bcf-ec0d-4ccd-b0ae-7c094a6f786b",
   "metadata": {
    "tags": []
   },
   "outputs": [],
   "source": [
    "#get fractions as a function of true i-band magnitude\n",
    "\n",
    "ilim_list = np.linspace(22, 25, 10)\n",
    "frac_injections_with_wise_match = np.array([])\n",
    "frac_detections_with_wise_match = np.array([])\n",
    "frac_injections_with_pos_wise_match = np.array([])\n",
    "frac_detections_with_pos_wise_match = np.array([])\n",
    "for ilim in ilim_list:\n",
    "    select_ilim = (injected_imag < ilim)\n",
    "    \n",
    "    frac_injections_with_wise_match_1 = np.sum(n_injections[select_ilim*has_wise_match])/np.sum(n_injections[select_ilim])\n",
    "    frac_detections_with_wise_match_1 = np.sum(n_detections[select_ilim*has_wise_match])/np.sum(n_detections[select_ilim])\n",
    "\n",
    "    frac_injections_with_pos_wise_match_1 = np.sum(n_injections[select_ilim*has_pos_wise_match])/np.sum(n_injections[select_ilim])\n",
    "    frac_detections_with_pos_wise_match_1 = np.sum(n_detections[select_ilim*has_pos_wise_match])/np.sum(n_detections[select_ilim])\n",
    "\n",
    "    frac_injections_with_wise_match = np.append(frac_injections_with_wise_match, frac_injections_with_wise_match_1)\n",
    "    frac_detections_with_wise_match = np.append(frac_detections_with_wise_match, frac_detections_with_wise_match_1)\n",
    "    frac_injections_with_pos_wise_match = np.append(frac_injections_with_pos_wise_match, frac_injections_with_pos_wise_match_1)\n",
    "    frac_detections_with_pos_wise_match = np.append(frac_detections_with_pos_wise_match, frac_detections_with_pos_wise_match_1)\n"
   ]
  },
  {
   "cell_type": "code",
   "execution_count": 112,
   "id": "c8d349df-c391-46ef-9d16-07ba83533177",
   "metadata": {},
   "outputs": [
    {
     "data": {
      "image/png": "[encoded data removed]",
      "text/plain": [
       "<Figure size 432x288 with 1 Axes>"
      ]
     },
     "metadata": {
      "needs_background": "light"
     },
     "output_type": "display_data"
    }
   ],
   "source": [
    "plt.plot(ilim_list, frac_injections_with_wise_match, '-', color='b', label='injections with WISE match')\n",
    "plt.plot(ilim_list, frac_injections_with_pos_wise_match, '--', color='b', label='injections with +ve WISE match')\n",
    "\n",
    "plt.plot(ilim_list, frac_detections_with_wise_match, '-', color='r', label='detections with WISE match')\n",
    "plt.plot(ilim_list, frac_detections_with_pos_wise_match, '--', color='r', label='detections with +ve WISE match')\n",
    "plt.xlabel('deep i-band limit')\n",
    "plt.ylabel('fraction')\n",
    "plt.legend()\n",
    "plt.savefig('frac_of_injections_with_wise_flux.png')\n"
   ]
  },
  {
   "cell_type": "markdown",
   "id": "e2642ac2-da12-4590-bf92-e45f59164217",
   "metadata": {},
   "source": [
    "### What is the fraction of WISE matches for MAGLIM objects?###"
   ]
  },
  {
   "cell_type": "code",
   "execution_count": 147,
   "id": "38cc8c7f-b4ff-4a8c-ab36-4878c5c827e2",
   "metadata": {
    "tags": []
   },
   "outputs": [],
   "source": [
    "balrog_maglim_file = \"/global/cfs/cdirs/des/jelvinpo/cats/y3/balrog/run2/lens_samples_run2_v1.4/maglim_lens_v2p2_flux_balrog_run2_v1.4_masked.fits.gz\"\n",
    "balrog_maglim = fio.read(balrog_maglim_file)\n",
    "\n",
    "y3_maglim_injected_id_pd = astropy.table.Table(data=[balrog_maglim[\"true_id\"]], names=['INJ_ID']).to_pandas()\n",
    "y3_maglim_injected_id_merged = y3_maglim_injected_id_pd.merge(deep_field_wise[['ID','FLUX_W1','BDF_MAG_DERED_I']].to_pandas(), how='left', left_on='INJ_ID', right_on='ID')\n",
    "y3_maglim_injected_flux_W1 = np.array(y3_maglim_injected_id_merged['FLUX_W1'])\n",
    "\n",
    "y3_maglim_has_wise_match = ~np.isnan(y3_maglim_injected_flux_W1)\n",
    "y3_maglim_has_pos_wise_match = y3_maglim_injected_flux_W1 > 0."
   ]
  },
  {
   "cell_type": "code",
   "execution_count": 149,
   "id": "3f9cab97-a37e-41f5-bf69-fafc8499681f",
   "metadata": {
    "tags": []
   },
   "outputs": [
    {
     "name": "stdout",
     "output_type": "stream",
     "text": [
      "frac Y3 balrog-maglim injections with deep-field WISE match = 0.9837162088166662\n",
      "frac Y3 balrog-maglim with positive-flux deep-field WISE match = 0.9837162088166662\n"
     ]
    }
   ],
   "source": [
    "frac_y3maglim_with_wise_match = np.sum(y3_maglim_has_wise_match.astype('int'))/len(balrog_maglim)\n",
    "frac_y3maglim_with_pos_wise_match = np.sum(y3_maglim_has_wise_match.astype('int'))/len(balrog_maglim)\n",
    "\n",
    "print(\"frac Y3 balrog-maglim with deep-field WISE match =\", frac_y3maglim_with_wise_match )\n",
    "print(\"frac Y3 balrog-maglim with positive-flux deep-field WISE match =\", frac_y3maglim_with_pos_wise_match )\n"
   ]
  },
  {
   "cell_type": "markdown",
   "id": "63115c11-e192-455f-8ee3-ff39d9245a06",
   "metadata": {},
   "source": [
    "### NOW TRY THE Y6 DF INJECTIONS (SOME CUTS APPLIED vs y3) ###"
   ]
  },
  {
   "cell_type": "code",
   "execution_count": 143,
   "id": "1f3da891-8d8f-49d0-8860-b6b4151c2248",
   "metadata": {},
   "outputs": [],
   "source": [
    "y6_df_injections_file = \"/global/cfs/cdirs/des/y6-balrog/inputs/BALROG_RUN2_DEEP_CAT_FLAG0INVHS1BDFLT254v4_weighted_v2.fits\"\n",
    "y6_df_injections = fio.read(y6_df_injections_file)\n",
    "\n",
    "y6_injected_id_pd = astropy.table.Table(data=[y6_df_injections['id']], names=['INJ_ID']).to_pandas()\n",
    "y6_injected_id_merged = y6_injected_id_pd.merge(deep_field_wise[['ID','FLUX_W1','BDF_MAG_DERED_I']].to_pandas(), how='left', left_on='INJ_ID', right_on='ID')\n",
    "y6_injected_flux_W1 = np.array(y6_injected_id_merged['FLUX_W1'])\n",
    "\n"
   ]
  },
  {
   "cell_type": "code",
   "execution_count": 141,
   "id": "1ab03b39-695d-40b3-80b8-dca28630b37c",
   "metadata": {
    "tags": []
   },
   "outputs": [],
   "source": [
    "#select matches/positive matches\n",
    "y6_has_wise_match = ~np.isnan(y6_injected_flux_W1)\n",
    "y6_has_pos_wise_match = y6_injected_flux_W1 > 0.\n"
   ]
  },
  {
   "cell_type": "code",
   "execution_count": 142,
   "id": "2eb275ce-1d8f-4bf3-8318-e71d034506a1",
   "metadata": {
    "tags": []
   },
   "outputs": [
    {
     "name": "stdout",
     "output_type": "stream",
     "text": [
      "frac Y6 injections with deep-field WISE match = 0.9536274179060192\n",
      "frac Y6 injections with positive-flux deep-field WISE match = 0.6097533217628817\n"
     ]
    }
   ],
   "source": [
    "#get total fractions\n",
    "\n",
    "frac_y6inj_with_wise_match = np.sum(y6_has_wise_match.astype('int'))/len(y6_df_injections)\n",
    "frac_y6inj_with_pos_wise_match = np.sum(y6_has_pos_wise_match.astype('int'))/len(y6_df_injections)\n",
    "\n",
    "print(\"frac Y6 injections with deep-field WISE match =\", frac_y6inj_with_wise_match)\n",
    "print(\"frac Y6 injections with positive-flux deep-field WISE match =\", frac_y6inj_with_pos_wise_match)\n"
   ]
  },
  {
   "cell_type": "code",
   "execution_count": 126,
   "id": "d6639691-185c-4ba8-b187-43c22eb5f228",
   "metadata": {
    "tags": []
   },
   "outputs": [
    {
     "data": {
      "text/plain": [
       "1230145"
      ]
     },
     "execution_count": 126,
     "metadata": {},
     "output_type": "execute_result"
    }
   ],
   "source": []
  },
  {
   "cell_type": "code",
   "execution_count": null,
   "id": "19e5e0dc-cc83-4e14-8fc7-c087cfdf9840",
   "metadata": {},
   "outputs": [],
   "source": []
  }
 ],
 "metadata": {
  "kernelspec": {
   "display_name": "py3",
   "language": "python",
   "name": "py3"
  },
  "language_info": {
   "codemirror_mode": {
    "name": "ipython",
    "version": 3
   },
   "file_extension": ".py",
   "mimetype": "text/x-python",
   "name": "python",
   "nbconvert_exporter": "python",
   "pygments_lexer": "ipython3",
   "version": "3.6.10"
  }
 },
 "nbformat": 4,
 "nbformat_minor": 5
}
